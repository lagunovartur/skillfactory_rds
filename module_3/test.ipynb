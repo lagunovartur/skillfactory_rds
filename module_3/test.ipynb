{
 "cells": [
  {
   "cell_type": "code",
   "execution_count": 17,
   "metadata": {
    "collapsed": true
   },
   "outputs": [],
   "source": [
    "import pandas as pd\n",
    "import numpy as np\n",
    "\n",
    "pd.set_option(\"max_rows\",500)"
   ]
  },
  {
   "cell_type": "code",
   "execution_count": 20,
   "outputs": [
    {
     "data": {
      "text/plain": "  Restaurant_id        City  \\\n0       id_5569       Paris   \n1       id_1535   Stockholm   \n2        id_352      London   \n3       id_3456      Berlin   \n4        id_615      Munich   \n5       id_1418      Oporto   \n6       id_1720       Milan   \n7        id_825  Bratislava   \n8       id_2690      Vienna   \n9       id_4209        Rome   \n\n                                       Cuisine Style  Ranking  Rating  \\\n0            ['European', 'French', 'International']   5570.0     3.5   \n1                                                NaN   1537.0     4.0   \n2  ['Japanese', 'Sushi', 'Asian', 'Grill', 'Veget...    353.0     4.5   \n3                                                NaN   3458.0     5.0   \n4  ['German', 'Central European', 'Vegetarian Fri...    621.0     4.0   \n5                                                NaN   1419.0     3.0   \n6                               ['Italian', 'Pizza']   1722.0     4.0   \n7                                        ['Italian']    826.0     3.0   \n8                                                NaN   2692.0     4.0   \n9                  ['Italian', 'Pizza', 'Fast Food']   4210.0     4.0   \n\n  Price Range  Number of Reviews  \\\n0    $$ - $$$              194.0   \n1         NaN               10.0   \n2        $$$$              688.0   \n3         NaN                3.0   \n4    $$ - $$$               84.0   \n5         NaN                2.0   \n6           $               50.0   \n7         NaN                9.0   \n8         NaN                NaN   \n9           $               55.0   \n\n                                             Reviews  \\\n0  [['Good food at your doorstep', 'A good hotel ...   \n1  [['Unique cuisine', 'Delicious Nepalese food']...   \n2  [['Catch up with friends', 'Not exceptional'],...   \n3                                           [[], []]   \n4  [['Best place to try a Bavarian food', 'Nice b...   \n5  [['There are better 3 star hotel bars', 'Amazi...   \n6  [['Excellent simple local eatery.', 'Excellent...   \n7  [['Wasting of money', 'excellent cuisine'], ['...   \n8                                           [[], []]   \n9  [['Clean efficient staff', 'Nice little pizza ...   \n\n                                              URL_TA      ID_TA  \n0  /Restaurant_Review-g187147-d1912643-Reviews-R_...   d1912643  \n1  /Restaurant_Review-g189852-d7992032-Reviews-Bu...   d7992032  \n2  /Restaurant_Review-g186338-d8632781-Reviews-RO...   d8632781  \n3  /Restaurant_Review-g187323-d1358776-Reviews-Es...   d1358776  \n4  /Restaurant_Review-g187309-d6864963-Reviews-Au...   d6864963  \n5  /Restaurant_Review-g189180-d12503536-Reviews-D...  d12503536  \n6  /Restaurant_Review-g187849-d5808504-Reviews-Pi...   d5808504  \n7  /Restaurant_Review-g274924-d3199765-Reviews-Ri...   d3199765  \n8  /Restaurant_Review-g190454-d12845029-Reviews-G...  d12845029  \n9  /Restaurant_Review-g187791-d8020681-Reviews-Qu...   d8020681  ",
      "text/html": "<div>\n<style scoped>\n    .dataframe tbody tr th:only-of-type {\n        vertical-align: middle;\n    }\n\n    .dataframe tbody tr th {\n        vertical-align: top;\n    }\n\n    .dataframe thead th {\n        text-align: right;\n    }\n</style>\n<table border=\"1\" class=\"dataframe\">\n  <thead>\n    <tr style=\"text-align: right;\">\n      <th></th>\n      <th>Restaurant_id</th>\n      <th>City</th>\n      <th>Cuisine Style</th>\n      <th>Ranking</th>\n      <th>Rating</th>\n      <th>Price Range</th>\n      <th>Number of Reviews</th>\n      <th>Reviews</th>\n      <th>URL_TA</th>\n      <th>ID_TA</th>\n    </tr>\n  </thead>\n  <tbody>\n    <tr>\n      <th>0</th>\n      <td>id_5569</td>\n      <td>Paris</td>\n      <td>['European', 'French', 'International']</td>\n      <td>5570.0</td>\n      <td>3.5</td>\n      <td>$$ - $$$</td>\n      <td>194.0</td>\n      <td>[['Good food at your doorstep', 'A good hotel ...</td>\n      <td>/Restaurant_Review-g187147-d1912643-Reviews-R_...</td>\n      <td>d1912643</td>\n    </tr>\n    <tr>\n      <th>1</th>\n      <td>id_1535</td>\n      <td>Stockholm</td>\n      <td>NaN</td>\n      <td>1537.0</td>\n      <td>4.0</td>\n      <td>NaN</td>\n      <td>10.0</td>\n      <td>[['Unique cuisine', 'Delicious Nepalese food']...</td>\n      <td>/Restaurant_Review-g189852-d7992032-Reviews-Bu...</td>\n      <td>d7992032</td>\n    </tr>\n    <tr>\n      <th>2</th>\n      <td>id_352</td>\n      <td>London</td>\n      <td>['Japanese', 'Sushi', 'Asian', 'Grill', 'Veget...</td>\n      <td>353.0</td>\n      <td>4.5</td>\n      <td>$$$$</td>\n      <td>688.0</td>\n      <td>[['Catch up with friends', 'Not exceptional'],...</td>\n      <td>/Restaurant_Review-g186338-d8632781-Reviews-RO...</td>\n      <td>d8632781</td>\n    </tr>\n    <tr>\n      <th>3</th>\n      <td>id_3456</td>\n      <td>Berlin</td>\n      <td>NaN</td>\n      <td>3458.0</td>\n      <td>5.0</td>\n      <td>NaN</td>\n      <td>3.0</td>\n      <td>[[], []]</td>\n      <td>/Restaurant_Review-g187323-d1358776-Reviews-Es...</td>\n      <td>d1358776</td>\n    </tr>\n    <tr>\n      <th>4</th>\n      <td>id_615</td>\n      <td>Munich</td>\n      <td>['German', 'Central European', 'Vegetarian Fri...</td>\n      <td>621.0</td>\n      <td>4.0</td>\n      <td>$$ - $$$</td>\n      <td>84.0</td>\n      <td>[['Best place to try a Bavarian food', 'Nice b...</td>\n      <td>/Restaurant_Review-g187309-d6864963-Reviews-Au...</td>\n      <td>d6864963</td>\n    </tr>\n    <tr>\n      <th>5</th>\n      <td>id_1418</td>\n      <td>Oporto</td>\n      <td>NaN</td>\n      <td>1419.0</td>\n      <td>3.0</td>\n      <td>NaN</td>\n      <td>2.0</td>\n      <td>[['There are better 3 star hotel bars', 'Amazi...</td>\n      <td>/Restaurant_Review-g189180-d12503536-Reviews-D...</td>\n      <td>d12503536</td>\n    </tr>\n    <tr>\n      <th>6</th>\n      <td>id_1720</td>\n      <td>Milan</td>\n      <td>['Italian', 'Pizza']</td>\n      <td>1722.0</td>\n      <td>4.0</td>\n      <td>$</td>\n      <td>50.0</td>\n      <td>[['Excellent simple local eatery.', 'Excellent...</td>\n      <td>/Restaurant_Review-g187849-d5808504-Reviews-Pi...</td>\n      <td>d5808504</td>\n    </tr>\n    <tr>\n      <th>7</th>\n      <td>id_825</td>\n      <td>Bratislava</td>\n      <td>['Italian']</td>\n      <td>826.0</td>\n      <td>3.0</td>\n      <td>NaN</td>\n      <td>9.0</td>\n      <td>[['Wasting of money', 'excellent cuisine'], ['...</td>\n      <td>/Restaurant_Review-g274924-d3199765-Reviews-Ri...</td>\n      <td>d3199765</td>\n    </tr>\n    <tr>\n      <th>8</th>\n      <td>id_2690</td>\n      <td>Vienna</td>\n      <td>NaN</td>\n      <td>2692.0</td>\n      <td>4.0</td>\n      <td>NaN</td>\n      <td>NaN</td>\n      <td>[[], []]</td>\n      <td>/Restaurant_Review-g190454-d12845029-Reviews-G...</td>\n      <td>d12845029</td>\n    </tr>\n    <tr>\n      <th>9</th>\n      <td>id_4209</td>\n      <td>Rome</td>\n      <td>['Italian', 'Pizza', 'Fast Food']</td>\n      <td>4210.0</td>\n      <td>4.0</td>\n      <td>$</td>\n      <td>55.0</td>\n      <td>[['Clean efficient staff', 'Nice little pizza ...</td>\n      <td>/Restaurant_Review-g187791-d8020681-Reviews-Qu...</td>\n      <td>d8020681</td>\n    </tr>\n  </tbody>\n</table>\n</div>"
     },
     "execution_count": 20,
     "metadata": {},
     "output_type": "execute_result"
    }
   ],
   "source": [
    "restuarants_df = pd.read_csv('main_task.csv')\n",
    "restuarants_df.head(10)"
   ],
   "metadata": {
    "collapsed": false,
    "pycharm": {
     "name": "#%%\n"
    }
   }
  },
  {
   "cell_type": "code",
   "execution_count": 13,
   "outputs": [
    {
     "name": "stdout",
     "output_type": "stream",
     "text": [
      "Cuisine Style\n",
      "Price Range\n",
      "Number of Reviews\n"
     ]
    }
   ],
   "source": [
    "gaps = restuarants_df.isna()\n",
    "for column in gaps.columns:\n",
    "    if len(gaps[gaps[column]==True])>0:\n",
    "        print(column)\n",
    "\n",
    "\n",
    "\n",
    "\n"
   ],
   "metadata": {
    "collapsed": false,
    "pycharm": {
     "name": "#%%\n"
    }
   }
  }
 ],
 "metadata": {
  "kernelspec": {
   "display_name": "Python 3",
   "language": "python",
   "name": "python3"
  },
  "language_info": {
   "codemirror_mode": {
    "name": "ipython",
    "version": 2
   },
   "file_extension": ".py",
   "mimetype": "text/x-python",
   "name": "python",
   "nbconvert_exporter": "python",
   "pygments_lexer": "ipython2",
   "version": "2.7.6"
  }
 },
 "nbformat": 4,
 "nbformat_minor": 0
}