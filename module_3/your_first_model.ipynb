{
 "cells": [
  {
   "cell_type": "markdown",
   "metadata": {},
   "source": [
    "# Загрузка Pandas и очистка данных"
   ]
  },
  {
   "cell_type": "code",
   "execution_count": 1,
   "metadata": {},
   "outputs": [],
   "source": [
    "import pandas as pd\n",
    "pd.set_option(\"max_rows\",500)\n",
    "\n",
    "import seaborn as sns\n",
    "\n",
    "import matplotlib.pyplot as plt\n",
    "\n",
    "import math\n",
    "\n",
    "import datetime\n",
    "\n",
    "# Использую данный десериализатор потому что у него нет проблем с одинарными кавычками\n",
    "# pip install demjson\n",
    "from demjson import decode"
   ]
  },
  {
   "cell_type": "code",
   "execution_count": 2,
   "metadata": {},
   "outputs": [
    {
     "data": {
      "text/plain": "  restaurant_id       city                                      cuisine_style  \\\n0       id_5569      Paris            ['European', 'French', 'International']   \n1       id_1535  Stockholm                                                NaN   \n2        id_352     London  ['Japanese', 'Sushi', 'Asian', 'Grill', 'Veget...   \n3       id_3456     Berlin                                                NaN   \n4        id_615     Munich  ['German', 'Central European', 'Vegetarian Fri...   \n\n   ranking  rating price_range  reviews_number  \\\n0   5570.0     3.5    $$ - $$$           194.0   \n1   1537.0     4.0         NaN            10.0   \n2    353.0     4.5        $$$$           688.0   \n3   3458.0     5.0         NaN             3.0   \n4    621.0     4.0    $$ - $$$            84.0   \n\n                                             reviews  \\\n0  [['Good food at your doorstep', 'A good hotel ...   \n1  [['Unique cuisine', 'Delicious Nepalese food']...   \n2  [['Catch up with friends', 'Not exceptional'],...   \n3                                           [[], []]   \n4  [['Best place to try a Bavarian food', 'Nice b...   \n\n                                              url_ta     id_ta  \n0  /Restaurant_Review-g187147-d1912643-Reviews-R_...  d1912643  \n1  /Restaurant_Review-g189852-d7992032-Reviews-Bu...  d7992032  \n2  /Restaurant_Review-g186338-d8632781-Reviews-RO...  d8632781  \n3  /Restaurant_Review-g187323-d1358776-Reviews-Es...  d1358776  \n4  /Restaurant_Review-g187309-d6864963-Reviews-Au...  d6864963  ",
      "text/html": "<div>\n<style scoped>\n    .dataframe tbody tr th:only-of-type {\n        vertical-align: middle;\n    }\n\n    .dataframe tbody tr th {\n        vertical-align: top;\n    }\n\n    .dataframe thead th {\n        text-align: right;\n    }\n</style>\n<table border=\"1\" class=\"dataframe\">\n  <thead>\n    <tr style=\"text-align: right;\">\n      <th></th>\n      <th>restaurant_id</th>\n      <th>city</th>\n      <th>cuisine_style</th>\n      <th>ranking</th>\n      <th>rating</th>\n      <th>price_range</th>\n      <th>reviews_number</th>\n      <th>reviews</th>\n      <th>url_ta</th>\n      <th>id_ta</th>\n    </tr>\n  </thead>\n  <tbody>\n    <tr>\n      <th>0</th>\n      <td>id_5569</td>\n      <td>Paris</td>\n      <td>['European', 'French', 'International']</td>\n      <td>5570.0</td>\n      <td>3.5</td>\n      <td>$$ - $$$</td>\n      <td>194.0</td>\n      <td>[['Good food at your doorstep', 'A good hotel ...</td>\n      <td>/Restaurant_Review-g187147-d1912643-Reviews-R_...</td>\n      <td>d1912643</td>\n    </tr>\n    <tr>\n      <th>1</th>\n      <td>id_1535</td>\n      <td>Stockholm</td>\n      <td>NaN</td>\n      <td>1537.0</td>\n      <td>4.0</td>\n      <td>NaN</td>\n      <td>10.0</td>\n      <td>[['Unique cuisine', 'Delicious Nepalese food']...</td>\n      <td>/Restaurant_Review-g189852-d7992032-Reviews-Bu...</td>\n      <td>d7992032</td>\n    </tr>\n    <tr>\n      <th>2</th>\n      <td>id_352</td>\n      <td>London</td>\n      <td>['Japanese', 'Sushi', 'Asian', 'Grill', 'Veget...</td>\n      <td>353.0</td>\n      <td>4.5</td>\n      <td>$$$$</td>\n      <td>688.0</td>\n      <td>[['Catch up with friends', 'Not exceptional'],...</td>\n      <td>/Restaurant_Review-g186338-d8632781-Reviews-RO...</td>\n      <td>d8632781</td>\n    </tr>\n    <tr>\n      <th>3</th>\n      <td>id_3456</td>\n      <td>Berlin</td>\n      <td>NaN</td>\n      <td>3458.0</td>\n      <td>5.0</td>\n      <td>NaN</td>\n      <td>3.0</td>\n      <td>[[], []]</td>\n      <td>/Restaurant_Review-g187323-d1358776-Reviews-Es...</td>\n      <td>d1358776</td>\n    </tr>\n    <tr>\n      <th>4</th>\n      <td>id_615</td>\n      <td>Munich</td>\n      <td>['German', 'Central European', 'Vegetarian Fri...</td>\n      <td>621.0</td>\n      <td>4.0</td>\n      <td>$$ - $$$</td>\n      <td>84.0</td>\n      <td>[['Best place to try a Bavarian food', 'Nice b...</td>\n      <td>/Restaurant_Review-g187309-d6864963-Reviews-Au...</td>\n      <td>d6864963</td>\n    </tr>\n  </tbody>\n</table>\n</div>"
     },
     "execution_count": 2,
     "metadata": {},
     "output_type": "execute_result"
    }
   ],
   "source": [
    "#Переименуем колонки\n",
    "original = pd.read_csv('main_task.csv')\n",
    "new_column_names = {}\n",
    "for column in original.columns:\n",
    "    new_column_name = column.lower()\n",
    "    new_column_name = new_column_name.replace(' ','_')\n",
    "    new_column_names[column] = new_column_name.strip()\n",
    "new_column_names['Number of Reviews'] = 'reviews_number'\n",
    "original.rename(new_column_names,axis=1,inplace=True)\n",
    "original.head(5)\n"
   ]
  },
  {
   "cell_type": "code",
   "execution_count": 3,
   "outputs": [],
   "source": [
    "# Описание датафрейма\n",
    "\n",
    "# Restaurant_id — идентификационный номер ресторана / сети ресторанов;\n",
    "# City — город, в котором находится ресторан;\n",
    "# Cuisine Style — кухня или кухни, к которым можно отнести блюда, предлагаемые в ресторане;\n",
    "# Ranking — место, которое занимает данный ресторан среди всех ресторанов своего города;\n",
    "# Rating — рейтинг ресторана по данным TripAdvisor (именно это значение должна будет предсказывать модель);\n",
    "# Price Range — диапазон цен в ресторане;\n",
    "# Number of Reviews — количество отзывов о ресторане;\n",
    "# Reviews — данные о двух отзывах, которые отображаются на сайте ресторана;\n",
    "# URL_TA — URL страницы ресторана на TripAdvosor;\n",
    "# ID_TA — идентификатор ресторана в базе данных TripAdvisor."
   ],
   "metadata": {
    "collapsed": false,
    "pycharm": {
     "name": "#%%\n"
    }
   }
  },
  {
   "cell_type": "code",
   "execution_count": 4,
   "outputs": [],
   "source": [
    "# Ваш код по очистке данных и генерации новых признаков"
   ],
   "metadata": {
    "collapsed": false,
    "pycharm": {
     "name": "#%%\n"
    }
   }
  },
  {
   "cell_type": "code",
   "execution_count": 5,
   "outputs": [],
   "source": [
    "#Удаляем дубликаты в стобце id_ta\n",
    "preparation1 = original.drop_duplicates(subset=['id_ta'])"
   ],
   "metadata": {
    "collapsed": false,
    "pycharm": {
     "name": "#%%\n"
    }
   }
  },
  {
   "cell_type": "code",
   "execution_count": 5,
   "outputs": [],
   "source": [],
   "metadata": {
    "collapsed": false,
    "pycharm": {
     "name": "#%%\n"
    }
   }
  },
  {
   "cell_type": "code",
   "execution_count": 6,
   "outputs": [
    {
     "name": "stderr",
     "output_type": "stream",
     "text": [
      "F:\\projects\\skillfactory_rds\\envs\\lib\\site-packages\\ipykernel_launcher.py:2: SettingWithCopyWarning: \n",
      "A value is trying to be set on a copy of a slice from a DataFrame.\n",
      "Try using .loc[row_indexer,col_indexer] = value instead\n",
      "\n",
      "See the caveats in the documentation: https://pandas.pydata.org/pandas-docs/stable/user_guide/indexing.html#returning-a-view-versus-a-copy\n",
      "  \n",
      "F:\\projects\\skillfactory_rds\\envs\\lib\\site-packages\\pandas\\core\\frame.py:4167: SettingWithCopyWarning: \n",
      "A value is trying to be set on a copy of a slice from a DataFrame\n",
      "\n",
      "See the caveats in the documentation: https://pandas.pydata.org/pandas-docs/stable/user_guide/indexing.html#returning-a-view-versus-a-copy\n",
      "  errors=errors,\n"
     ]
    }
   ],
   "source": [
    "cuisine_styles = preparation1[['id_ta','cuisine_style']]\n",
    "cuisine_styles['cuisine_style'] = cuisine_styles['cuisine_style'].apply(lambda x: decode(x) if not pd.isna(x) else [])\n",
    "cuisine_styles = cuisine_styles.set_index(['id_ta'])\n",
    "cuisine_styles = cuisine_styles.explode('cuisine_style')\n",
    "cuisine_styles.reset_index(inplace=True)\n",
    "cuisine_styles.head(10)\n",
    "preparation1.drop('cuisine_style',axis=1,inplace=True)"
   ],
   "metadata": {
    "collapsed": false,
    "pycharm": {
     "name": "#%%\n"
    }
   }
  },
  {
   "cell_type": "code",
   "execution_count": 7,
   "outputs": [],
   "source": [
    "reviews\t= pd.DataFrame({'id_ta':preparation1['id_ta'], 'review':preparation1['reviews']})\n",
    "reviews = reviews.set_index('id_ta')\n",
    "reviews['review'] = reviews['review'].apply(lambda x:decode(x.replace('nan','\"nan\"')) if not pd.isna(x) else [])\n",
    "reviews['review'] = reviews['review'].apply(lambda x:list(zip(*x)))\n",
    "reviews = reviews.explode('review')\n",
    "reviews['text'] = [(x[0] if type(x) != float else math.nan) for x in reviews['review']]\n",
    "reviews['date'] = [(x[1] if type(x) != float else math.nan) for x in reviews['review']]\n",
    "reviews['date'] = reviews['date'].apply(lambda x: datetime.datetime.strptime(x,'%m/%d/%Y').date() if  type(x) is str else x)\n",
    "reviews.drop('review',inplace=True,axis=1)\n",
    "reviews.reset_index(inplace=True)\n",
    "reviews.head(10)\n",
    "preparation1.drop('reviews',axis=1,inplace=True)"
   ],
   "metadata": {
    "collapsed": false,
    "pycharm": {
     "name": "#%%\n"
    }
   }
  },
  {
   "cell_type": "code",
   "execution_count": 8,
   "outputs": [
    {
     "data": {
      "text/plain": "restaurant_id         0\ncity                  0\nranking               0\nrating                0\nprice_range       13879\nreviews_number     2543\nurl_ta                0\nid_ta                 0\ndtype: int64"
     },
     "execution_count": 8,
     "metadata": {},
     "output_type": "execute_result"
    }
   ],
   "source": [
    "#2.1 Какие столбцы НЕ содержат пропущенных (None) значений?\n",
    "preparation1.isna().sum()"
   ],
   "metadata": {
    "collapsed": false,
    "pycharm": {
     "name": "#%%\n"
    }
   }
  },
  {
   "cell_type": "code",
   "execution_count": 9,
   "outputs": [
    {
     "data": {
      "text/plain": "id_ta               0\ncuisine_style    9279\ndtype: int64"
     },
     "execution_count": 9,
     "metadata": {},
     "output_type": "execute_result"
    }
   ],
   "source": [
    "cuisine_styles.isna().sum()"
   ],
   "metadata": {
    "collapsed": false,
    "pycharm": {
     "name": "#%%\n"
    }
   }
  },
  {
   "cell_type": "code",
   "execution_count": 10,
   "outputs": [
    {
     "data": {
      "text/plain": "id_ta       0\ntext     6465\ndate     6465\ndtype: int64"
     },
     "execution_count": 10,
     "metadata": {},
     "output_type": "execute_result"
    }
   ],
   "source": [
    "reviews.isna().sum()"
   ],
   "metadata": {
    "collapsed": false,
    "pycharm": {
     "name": "#%%\n"
    }
   }
  },
  {
   "cell_type": "code",
   "execution_count": 11,
   "outputs": [
    {
     "data": {
      "text/plain": "restaurant_id         0\ncity                  0\ncuisine_style      9283\nranking               0\nrating                0\nprice_range       13886\nreviews_number     2543\nreviews               0\nurl_ta                0\nid_ta                 0\ndtype: int64"
     },
     "execution_count": 11,
     "metadata": {},
     "output_type": "execute_result"
    }
   ],
   "source": [
    "original.isna().sum()"
   ],
   "metadata": {
    "collapsed": false,
    "pycharm": {
     "name": "#%%\n"
    }
   }
  },
  {
   "cell_type": "code",
   "execution_count": 12,
   "outputs": [
    {
     "name": "stdout",
     "output_type": "stream",
     "text": [
      "['ranking', 'rating', 'reviews_number']\n"
     ]
    }
   ],
   "source": [
    "#2.2 В каких столбцах данные хранятся в числовом формате?\n",
    "numeric_columns = ['ranking','rating','reviews_number']\n",
    "print(numeric_columns)"
   ],
   "metadata": {
    "collapsed": false,
    "pycharm": {
     "name": "#%%\n"
    }
   }
  },
  {
   "cell_type": "code",
   "execution_count": 13,
   "outputs": [
    {
     "name": "stdout",
     "output_type": "stream",
     "text": [
      "$$ - $$$    18412\n",
      "$            6279\n",
      "$$$$         1423\n",
      "Name: price_range, dtype: int64\n"
     ]
    }
   ],
   "source": [
    "#4.1.1 Сколько вариантов непустых значений встречается в столбце Price Range? (3)\n",
    "#4.1.2 Как в датафрейме обозначается самый низкий уровень цен? ($)\n",
    "#4.1.3 Как в датафрейме обозначается самый высокий уровень цен? ($$$$)\n",
    "#4.1.4 Сколько ресторанов относятся к среднему ценовому сегменту? (18412)\n",
    "print(original['price_range'].value_counts())"
   ],
   "metadata": {
    "collapsed": false,
    "pycharm": {
     "name": "#%%\n"
    }
   }
  },
  {
   "cell_type": "code",
   "execution_count": 14,
   "outputs": [
    {
     "data": {
      "text/plain": "London        5757\nParis         4897\nMadrid        3108\nBarcelona     2734\nBerlin        2155\nMilan         2133\nRome          2078\nPrague        1443\nLisbon        1300\nVienna        1166\nAmsterdam     1086\nBrussels      1060\nHamburg        949\nMunich         893\nLyon           892\nStockholm      820\nBudapest       816\nWarsaw         727\nDublin         673\nCopenhagen     659\nAthens         628\nEdinburgh      596\nZurich         538\nOporto         513\nGeneva         481\nKrakow         443\nOslo           385\nHelsinki       376\nBratislava     301\nLuxembourg     210\nLjubljana      183\nName: city, dtype: int64"
     },
     "execution_count": 14,
     "metadata": {},
     "output_type": "execute_result"
    }
   ],
   "source": [
    "# 4.2 Сколько городов представлено в наборе данных? (31)?\n",
    "original['city'].value_counts()"
   ],
   "metadata": {
    "collapsed": false,
    "pycharm": {
     "name": "#%%\n"
    }
   }
  },
  {
   "cell_type": "code",
   "execution_count": 15,
   "outputs": [
    {
     "data": {
      "text/plain": "cuisine_style\nVegetarian Friendly    11183\nEuropean               10056\nMediterranean           6271\nItalian                 5963\nVegan Options           4482\nGluten Free Options     4110\nBar                     3296\nFrench                  3189\nAsian                   3010\nPizza                   2849\nName: id_ta, dtype: int64"
     },
     "execution_count": 15,
     "metadata": {},
     "output_type": "execute_result"
    }
   ],
   "source": [
    "# 4.3.1 Сколько типов кухонь представлено в наборе данных? (125)\n",
    "# 4.3.2 Какая кухня представлена в наибольшем количестве ресторанов? (Vegetarian Friendly)\n",
    "cuisine_styles.groupby('cuisine_style')['id_ta'].count().sort_values(ascending=False).head(10)"
   ],
   "metadata": {
    "collapsed": false,
    "pycharm": {
     "name": "#%%\n"
    }
   }
  },
  {
   "cell_type": "code",
   "execution_count": 16,
   "outputs": [
    {
     "name": "stdout",
     "output_type": "stream",
     "text": [
      "2.622386193096548\n"
     ]
    }
   ],
   "source": [
    "# 4.3.3 Какое среднее количество кухонь предлагается в одном ресторане? Если в данных отсутствует\n",
    "# информация о типах кухонь, то считайте, что в этом ресторане предлагается только один тип кухни. (2.6)\n",
    "mean_count_cuisine_styles =  cuisine_styles.fillna('none').groupby('id_ta')['cuisine_style'].count().sort_values(ascending=False).mean()\n",
    "print(mean_count_cuisine_styles)"
   ],
   "metadata": {
    "collapsed": false,
    "pycharm": {
     "name": "#%%\n"
    }
   }
  },
  {
   "cell_type": "code",
   "execution_count": 17,
   "outputs": [
    {
     "name": "stdout",
     "output_type": "stream",
     "text": [
      "id_ta       d9999347\n",
      "text     😙💨🎂 CVKE 😚🍰\n",
      "date      2018-02-26\n",
      "dtype: object\n"
     ]
    }
   ],
   "source": [
    "#4.4.1 Когда был оставлен самый свежий отзыв? Введите ответ в формате yyyy-mm-dd.\n",
    "print(reviews[reviews['date'].isna()==False].max())"
   ],
   "metadata": {
    "collapsed": false,
    "pycharm": {
     "name": "#%%\n"
    }
   }
  },
  {
   "cell_type": "code",
   "execution_count": 18,
   "outputs": [
    {
     "data": {
      "text/plain": "Timedelta('3207 days 00:00:00')"
     },
     "execution_count": 18,
     "metadata": {},
     "output_type": "execute_result"
    }
   ],
   "source": [
    "#4.4.2 Какое максимальное количество дней отделяет даты публикации отзывов, размещённых на сайте ресторана?\n",
    "# Введите количество дней в виде целого числа.\n",
    "mm_reviews = reviews.groupby('id_ta')['date'].agg(['min','max']).reset_index()\n",
    "mm_reviews['delta'] = mm_reviews['max'] - mm_reviews['min']\n",
    "mm_reviews['delta'].max()\n"
   ],
   "metadata": {
    "collapsed": false,
    "pycharm": {
     "name": "#%%\n"
    }
   }
  },
  {
   "cell_type": "code",
   "execution_count": 19,
   "outputs": [
    {
     "name": "stderr",
     "output_type": "stream",
     "text": [
      "F:\\projects\\skillfactory_rds\\envs\\lib\\site-packages\\ipykernel_launcher.py:14: SettingWithCopyWarning: \n",
      "A value is trying to be set on a copy of a slice from a DataFrame.\n",
      "Try using .loc[row_indexer,col_indexer] = value instead\n",
      "\n",
      "See the caveats in the documentation: https://pandas.pydata.org/pandas-docs/stable/user_guide/indexing.html#returning-a-view-versus-a-copy\n",
      "  \n"
     ]
    }
   ],
   "source": [
    "#price_range -  качественный признак, который можно отнести к ранговой переменной, так как мы знаем, что есть\n",
    "# связь между значениями по возрастанию (убыванию) значений, однако не можем точно сказать на сколько отличаются\n",
    "# конкретные значения, по которым строился ранг. Заменим строковые значения выражающие ранг на числа.\n",
    "def func1(x):\n",
    "    if x == '$':\n",
    "        return 1\n",
    "    elif x == '$$ - $$$':\n",
    "        return 2\n",
    "    elif x == '$$$$':\n",
    "        return 3\n",
    "    else:\n",
    "        return x\n",
    "\n",
    "preparation1['price_range'] = preparation1['price_range'].apply(func1)\n",
    "#Данные о ценовой группе содержат довольно много пропусков (13886 / 40000 * 100) 35% датафрейма.\n",
    "#Заполним пропуски средним рангом по городу\n",
    "city_price_range = preparation1.groupby('city',as_index=False)['price_range'].mean()\n",
    "city_price_range.rename({'price_range':'city_price_range'},axis=1,inplace=True)\n",
    "preparation1 = pd.merge(preparation1,city_price_range,'left','city')\n",
    "mean_price_range = round(preparation1['price_range'].mean(),0)\n",
    "def func2(row):\n",
    "    if pd.isna(row['price_range']):\n",
    "        if row['city_price_range'] == 0:\n",
    "            return mean_price_range\n",
    "        else:\n",
    "            return round(row['city_price_range'],0)\n",
    "    else:\n",
    "        return row['price_range']\n",
    "preparation1['price_range'] = preparation1.apply(func2,axis=1)\n"
   ],
   "metadata": {
    "collapsed": false,
    "pycharm": {
     "name": "#%%\n"
    }
   }
  },
  {
   "cell_type": "code",
   "execution_count": 20,
   "outputs": [
    {
     "name": "stdout",
     "output_type": "stream",
     "text": [
      "9279\n"
     ]
    }
   ],
   "source": [
    "#Рассчитаем количество кухонь в ресторане и добавим новый признак\n",
    "cuisine_styles1 = cuisine_styles.copy()\n",
    "#Узнаем колчество незаполненных стилей кухни\n",
    "print(cuisine_styles1['cuisine_style'].isna().sum())\n",
    "cusine_style_count = cuisine_styles1.groupby('id_ta',as_index=False)['cuisine_style'].count()\n",
    "cusine_style_count.rename({'cuisine_style':'cusine_style_count'},inplace=True,axis=1)\n",
    "cusine_style_count['cusine_style_count'] = cusine_style_count['cusine_style_count'].apply(lambda x:round(mean_count_cuisine_styles,0) if x==0 else x)\n",
    "preparation1 = pd.merge(preparation1,cusine_style_count,'left','id_ta')\n",
    "preparation1.head(10)\n",
    "numeric_columns.append('cusine_style_count')"
   ],
   "metadata": {
    "collapsed": false,
    "pycharm": {
     "name": "#%%\n"
    }
   }
  },
  {
   "cell_type": "code",
   "execution_count": 21,
   "outputs": [
    {
     "name": "stderr",
     "output_type": "stream",
     "text": [
      "F:\\projects\\skillfactory_rds\\envs\\lib\\site-packages\\pandas\\core\\frame.py:4301: SettingWithCopyWarning: \n",
      "A value is trying to be set on a copy of a slice from a DataFrame\n",
      "\n",
      "See the caveats in the documentation: https://pandas.pydata.org/pandas-docs/stable/user_guide/indexing.html#returning-a-view-versus-a-copy\n",
      "  errors=errors,\n",
      "F:\\projects\\skillfactory_rds\\envs\\lib\\site-packages\\ipykernel_launcher.py:4: SettingWithCopyWarning: \n",
      "A value is trying to be set on a copy of a slice from a DataFrame.\n",
      "Try using .loc[row_indexer,col_indexer] = value instead\n",
      "\n",
      "See the caveats in the documentation: https://pandas.pydata.org/pandas-docs/stable/user_guide/indexing.html#returning-a-view-versus-a-copy\n",
      "  after removing the cwd from sys.path.\n"
     ]
    }
   ],
   "source": [
    "#Добавим признак наличия вегитаринской кухни в ресторане\n",
    "vegetarian = cuisine_styles1[(cuisine_styles1['cuisine_style']=='Vegetarian Friendly')|(cuisine_styles1['cuisine_style']=='Vegan Options')]\n",
    "vegetarian.rename({'cuisine_style':'vegetarian'},axis=1,inplace=True)\n",
    "vegetarian['vegetarian'] = vegetarian['vegetarian'].apply(lambda x: 1)\n",
    "preparation1 = pd.merge(preparation1,vegetarian,'left','id_ta')\n",
    "preparation1['vegetarian'].fillna(0,inplace=True)\n",
    "numeric_columns.append('vegetarian')\n"
   ],
   "metadata": {
    "collapsed": false,
    "pycharm": {
     "name": "#%%\n"
    }
   }
  },
  {
   "cell_type": "code",
   "execution_count": 22,
   "outputs": [
    {
     "data": {
      "text/plain": "  restaurant_id       city  ranking  rating  price_range  reviews_number  \\\n0       id_5569      Paris   5570.0     3.5          2.0           194.0   \n1       id_1535  Stockholm   1537.0     4.0          2.0            10.0   \n2        id_352     London    353.0     4.5          3.0           688.0   \n3        id_352     London    353.0     4.5          3.0           688.0   \n4       id_3456     Berlin   3458.0     5.0          2.0             3.0   \n\n                                              url_ta     id_ta  \\\n0  /Restaurant_Review-g187147-d1912643-Reviews-R_...  d1912643   \n1  /Restaurant_Review-g189852-d7992032-Reviews-Bu...  d7992032   \n2  /Restaurant_Review-g186338-d8632781-Reviews-RO...  d8632781   \n3  /Restaurant_Review-g186338-d8632781-Reviews-RO...  d8632781   \n4  /Restaurant_Review-g187323-d1358776-Reviews-Es...  d1358776   \n\n   city_price_range  cusine_style_count  vegetarian  relevance_of_reviews  \n0          1.897227                 3.0         0.0           1023.000000  \n1          1.943182                 3.0         0.0           1201.000000  \n2          1.804437                 7.0         1.0           1015.000000  \n3          1.804437                 7.0         1.0           1015.000000  \n4          1.754799                 3.0         0.0           1234.490615  ",
      "text/html": "<div>\n<style scoped>\n    .dataframe tbody tr th:only-of-type {\n        vertical-align: middle;\n    }\n\n    .dataframe tbody tr th {\n        vertical-align: top;\n    }\n\n    .dataframe thead th {\n        text-align: right;\n    }\n</style>\n<table border=\"1\" class=\"dataframe\">\n  <thead>\n    <tr style=\"text-align: right;\">\n      <th></th>\n      <th>restaurant_id</th>\n      <th>city</th>\n      <th>ranking</th>\n      <th>rating</th>\n      <th>price_range</th>\n      <th>reviews_number</th>\n      <th>url_ta</th>\n      <th>id_ta</th>\n      <th>city_price_range</th>\n      <th>cusine_style_count</th>\n      <th>vegetarian</th>\n      <th>relevance_of_reviews</th>\n    </tr>\n  </thead>\n  <tbody>\n    <tr>\n      <th>0</th>\n      <td>id_5569</td>\n      <td>Paris</td>\n      <td>5570.0</td>\n      <td>3.5</td>\n      <td>2.0</td>\n      <td>194.0</td>\n      <td>/Restaurant_Review-g187147-d1912643-Reviews-R_...</td>\n      <td>d1912643</td>\n      <td>1.897227</td>\n      <td>3.0</td>\n      <td>0.0</td>\n      <td>1023.000000</td>\n    </tr>\n    <tr>\n      <th>1</th>\n      <td>id_1535</td>\n      <td>Stockholm</td>\n      <td>1537.0</td>\n      <td>4.0</td>\n      <td>2.0</td>\n      <td>10.0</td>\n      <td>/Restaurant_Review-g189852-d7992032-Reviews-Bu...</td>\n      <td>d7992032</td>\n      <td>1.943182</td>\n      <td>3.0</td>\n      <td>0.0</td>\n      <td>1201.000000</td>\n    </tr>\n    <tr>\n      <th>2</th>\n      <td>id_352</td>\n      <td>London</td>\n      <td>353.0</td>\n      <td>4.5</td>\n      <td>3.0</td>\n      <td>688.0</td>\n      <td>/Restaurant_Review-g186338-d8632781-Reviews-RO...</td>\n      <td>d8632781</td>\n      <td>1.804437</td>\n      <td>7.0</td>\n      <td>1.0</td>\n      <td>1015.000000</td>\n    </tr>\n    <tr>\n      <th>3</th>\n      <td>id_352</td>\n      <td>London</td>\n      <td>353.0</td>\n      <td>4.5</td>\n      <td>3.0</td>\n      <td>688.0</td>\n      <td>/Restaurant_Review-g186338-d8632781-Reviews-RO...</td>\n      <td>d8632781</td>\n      <td>1.804437</td>\n      <td>7.0</td>\n      <td>1.0</td>\n      <td>1015.000000</td>\n    </tr>\n    <tr>\n      <th>4</th>\n      <td>id_3456</td>\n      <td>Berlin</td>\n      <td>3458.0</td>\n      <td>5.0</td>\n      <td>2.0</td>\n      <td>3.0</td>\n      <td>/Restaurant_Review-g187323-d1358776-Reviews-Es...</td>\n      <td>d1358776</td>\n      <td>1.754799</td>\n      <td>3.0</td>\n      <td>0.0</td>\n      <td>1234.490615</td>\n    </tr>\n  </tbody>\n</table>\n</div>"
     },
     "execution_count": 22,
     "metadata": {},
     "output_type": "execute_result"
    }
   ],
   "source": [
    "#Добавим признак актуальности отзывов - количество дней от последнего отзыва до текущей даты\n",
    "mm_reviews['relevance_of_reviews'] = mm_reviews['max'].apply(lambda max: max if  pd.isna(max)\\\n",
    "else (datetime.datetime.now().date() - max).days)\n",
    "preparation1 = pd.merge(preparation1,mm_reviews[['id_ta','relevance_of_reviews']],'left','id_ta')\n",
    "preparation1['relevance_of_reviews'].fillna(preparation1['relevance_of_reviews'].mean(),inplace=True)\n",
    "numeric_columns.append('relevance_of_reviews')\n",
    "preparation1.head()"
   ],
   "metadata": {
    "collapsed": false,
    "pycharm": {
     "name": "#%%\n"
    }
   }
  },
  {
   "cell_type": "code",
   "execution_count": 23,
   "outputs": [
    {
     "data": {
      "text/plain": "<AxesSubplot:>"
     },
     "execution_count": 23,
     "metadata": {},
     "output_type": "execute_result"
    },
    {
     "data": {
      "text/plain": "<Figure size 1440x1440 with 2 Axes>",
      "image/png": "[encoded data removed]"
     },
     "metadata": {
      "needs_background": "light"
     },
     "output_type": "display_data"
    }
   ],
   "source": [
    "plt.figure(figsize=(20,20))\n",
    "sns.heatmap(preparation1[numeric_columns].corr(),annot=True)\n",
    "#Сильной корреляции нет\n"
   ],
   "metadata": {
    "collapsed": false,
    "pycharm": {
     "name": "#%%\n"
    }
   }
  },
  {
   "cell_type": "code",
   "execution_count": 24,
   "outputs": [],
   "source": [
    "#Разделим данные по городам\n",
    "cities = preparation1['city'].value_counts().reset_index()['index']\n",
    "preparation1 = pd.get_dummies(preparation1,columns=['city'],dummy_na=True)\n",
    "for city in cities:\n",
    "    # preparation1[city] = preparation1['city'].apply(lambda x: float(city == x))\n",
    "    numeric_columns.append('city_'+city)\n"
   ],
   "metadata": {
    "collapsed": false,
    "pycharm": {
     "name": "#%%\n"
    }
   }
  },
  {
   "cell_type": "code",
   "execution_count": 25,
   "outputs": [],
   "source": [
    "#Оставляем только числовые столбцы\n",
    "result = preparation1[numeric_columns]\n"
   ],
   "metadata": {
    "collapsed": false,
    "pycharm": {
     "name": "#%%\n"
    }
   }
  },
  {
   "cell_type": "code",
   "execution_count": 26,
   "outputs": [
    {
     "name": "stderr",
     "output_type": "stream",
     "text": [
      "F:\\projects\\skillfactory_rds\\envs\\lib\\site-packages\\pandas\\core\\series.py:4523: SettingWithCopyWarning: \n",
      "A value is trying to be set on a copy of a slice from a DataFrame\n",
      "\n",
      "See the caveats in the documentation: https://pandas.pydata.org/pandas-docs/stable/user_guide/indexing.html#returning-a-view-versus-a-copy\n",
      "  downcast=downcast,\n"
     ]
    }
   ],
   "source": [
    "#3.Заполняем пропуски\n",
    "\n",
    "result['reviews_number'].fillna(0,inplace=True)\n"
   ],
   "metadata": {
    "collapsed": false,
    "pycharm": {
     "name": "#%%\n"
    }
   }
  },
  {
   "cell_type": "code",
   "execution_count": 27,
   "metadata": {},
   "outputs": [],
   "source": [
    "# Разбиваем датафрейм на части, необходимые для обучения и тестирования модели\n",
    "# Х - данные с информацией о ресторанах, у - целевая переменная (рейтинги ресторанов)\n",
    "X = result.drop(['rating'], axis = 1)\n",
    "y = result['rating']"
   ]
  },
  {
   "cell_type": "code",
   "execution_count": 28,
   "metadata": {},
   "outputs": [],
   "source": [
    "# Загружаем специальный инструмент для разбивки:\n",
    "from sklearn.model_selection import train_test_split"
   ]
  },
  {
   "cell_type": "code",
   "execution_count": 29,
   "metadata": {},
   "outputs": [],
   "source": [
    "# Наборы данных с меткой \"train\" будут использоваться для обучения модели, \"test\" - для тестирования.\n",
    "# Для тестирования мы будем использовать 25% от исходного датасета.\n",
    "X_train, X_test, y_train, y_test = train_test_split(X, y, test_size=0.25)"
   ]
  },
  {
   "cell_type": "markdown",
   "metadata": {},
   "source": [
    "# Создаём, обучаем и тестируем модель"
   ]
  },
  {
   "cell_type": "code",
   "execution_count": 30,
   "metadata": {},
   "outputs": [],
   "source": [
    "# Импортируем необходимые библиотеки:\n",
    "from sklearn.ensemble import RandomForestRegressor # инструмент для создания и обучения модели\n",
    "from sklearn import metrics # инструменты для оценки точности модели"
   ]
  },
  {
   "cell_type": "code",
   "execution_count": 31,
   "metadata": {},
   "outputs": [],
   "source": [
    "# Создаём модель\n",
    "regr = RandomForestRegressor(n_estimators=100)\n",
    "\n",
    "# Обучаем модель на тестовом наборе данных\n",
    "regr.fit(X_train, y_train)\n",
    "\n",
    "# Используем обученную модель для предсказания рейтинга ресторанов в тестовой выборке.\n",
    "# Предсказанные значения записываем в переменную y_pred\n",
    "y_pred = regr.predict(X_test)"
   ]
  },
  {
   "cell_type": "code",
   "execution_count": 32,
   "metadata": {
    "pycharm": {
     "name": "#%%\n"
    }
   },
   "outputs": [
    {
     "name": "stdout",
     "output_type": "stream",
     "text": [
      "MAE: 0.19088171655247022\n"
     ]
    }
   ],
   "source": [
    "# Сравниваем предсказанные значения (y_pred) с реальными (y_test), и смотрим насколько они в среднем отличаются\n",
    "# Метрика называется Mean Absolute Error (MAE) и показывает среднее отклонение предсказанных значений от фактических.\n",
    "print('MAE:', metrics.mean_absolute_error(y_test, y_pred))\n"
   ]
  }
 ],
 "metadata": {
  "kernelspec": {
   "display_name": "Python 3",
   "language": "python",
   "name": "python3"
  },
  "language_info": {
   "codemirror_mode": {
    "name": "ipython",
    "version": 3
   },
   "file_extension": ".py",
   "mimetype": "text/x-python",
   "name": "python",
   "nbconvert_exporter": "python",
   "pygments_lexer": "ipython3",
   "version": "3.7.1"
  }
 },
 "nbformat": 4,
 "nbformat_minor": 2
}