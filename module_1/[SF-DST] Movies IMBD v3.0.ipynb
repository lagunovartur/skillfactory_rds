{
 "cells": [
  {
   "metadata": {
    "_cell_guid": "b1076dfc-b9ad-4769-8c92-a6c4dae69d19",
    "_uuid": "8f2839f25d086af736a60e9eeb907d3b93b6e0e5",
    "trusted": true
   },
   "cell_type": "code",
   "source": [
    "# noinspection JupyterPackage\n",
    "import numpy as np\n",
    "import pandas as pd\n",
    "import seaborn as sns\n",
    "import matplotlib.pyplot as plt\n",
    "import os\n",
    "from collections import Counter\n",
    "print(os.listdir(\"../input\"))"
   ],
   "execution_count": 3,
   "outputs": [
    {
     "ename": "FileNotFoundError",
     "evalue": "[WinError 3] Системе не удается найти указанный путь: '../input'",
     "output_type": "error",
     "traceback": [
      "\u001B[1;31m---------------------------------------------------------------------------\u001B[0m",
      "\u001B[1;31mFileNotFoundError\u001B[0m                         Traceback (most recent call last)",
      "\u001B[1;32m<ipython-input-3-f8d3e958bbb0>\u001B[0m in \u001B[0;36m<module>\u001B[1;34m\u001B[0m\n\u001B[0;32m      6\u001B[0m \u001B[1;32mimport\u001B[0m \u001B[0mos\u001B[0m\u001B[1;33m\u001B[0m\u001B[1;33m\u001B[0m\u001B[0m\n\u001B[0;32m      7\u001B[0m \u001B[1;32mfrom\u001B[0m \u001B[0mcollections\u001B[0m \u001B[1;32mimport\u001B[0m \u001B[0mCounter\u001B[0m\u001B[1;33m\u001B[0m\u001B[1;33m\u001B[0m\u001B[0m\n\u001B[1;32m----> 8\u001B[1;33m \u001B[0mprint\u001B[0m\u001B[1;33m(\u001B[0m\u001B[0mos\u001B[0m\u001B[1;33m.\u001B[0m\u001B[0mlistdir\u001B[0m\u001B[1;33m(\u001B[0m\u001B[1;34m\"../input\"\u001B[0m\u001B[1;33m)\u001B[0m\u001B[1;33m)\u001B[0m\u001B[1;33m\u001B[0m\u001B[1;33m\u001B[0m\u001B[0m\n\u001B[0m\u001B[0;32m      9\u001B[0m \u001B[1;33m\u001B[0m\u001B[0m\n",
      "\u001B[1;31mFileNotFoundError\u001B[0m: [WinError 3] Системе не удается найти указанный путь: '../input'"
     ]
    }
   ]
  },
  {
   "metadata": {
    "trusted": true
   },
   "cell_type": "code",
   "source": [
    "data = pd.read_csv('data.csv')\n",
    "data.head(5)"
   ],
   "execution_count": 4,
   "outputs": [
    {
     "data": {
      "text/plain": "     imdb_id  popularity     budget     revenue                original_title  \\\n0  tt0369610   32.985763  150000000  1513528810                Jurassic World   \n1  tt1392190   28.419936  150000000   378436354            Mad Max: Fury Road   \n2  tt2908446   13.112507  110000000   295238201                     Insurgent   \n3  tt2488496   11.173104  200000000  2068178225  Star Wars: The Force Awakens   \n4  tt2820852    9.335014  190000000  1506249360                     Furious 7   \n\n                                                cast          director  \\\n0  Chris Pratt|Bryce Dallas Howard|Irrfan Khan|Vi...   Colin Trevorrow   \n1  Tom Hardy|Charlize Theron|Hugh Keays-Byrne|Nic...     George Miller   \n2  Shailene Woodley|Theo James|Kate Winslet|Ansel...  Robert Schwentke   \n3  Harrison Ford|Mark Hamill|Carrie Fisher|Adam D...       J.J. Abrams   \n4  Vin Diesel|Paul Walker|Jason Statham|Michelle ...         James Wan   \n\n                         tagline  \\\n0              The park is open.   \n1             What a Lovely Day.   \n2     One Choice Can Destroy You   \n3  Every generation has a story.   \n4            Vengeance Hits Home   \n\n                                            overview  runtime  \\\n0  Twenty-two years after the events of Jurassic ...      124   \n1  An apocalyptic story set in the furthest reach...      120   \n2  Beatrice Prior must confront her inner demons ...      119   \n3  Thirty years after defeating the Galactic Empi...      136   \n4  Deckard Shaw seeks revenge against Dominic Tor...      137   \n\n                                      genres  \\\n0  Action|Adventure|Science Fiction|Thriller   \n1  Action|Adventure|Science Fiction|Thriller   \n2         Adventure|Science Fiction|Thriller   \n3   Action|Adventure|Science Fiction|Fantasy   \n4                      Action|Crime|Thriller   \n\n                                production_companies release_date  vote_count  \\\n0  Universal Studios|Amblin Entertainment|Legenda...     6/9/2015        5562   \n1  Village Roadshow Pictures|Kennedy Miller Produ...    5/13/2015        6185   \n2  Summit Entertainment|Mandeville Films|Red Wago...    3/18/2015        2480   \n3          Lucasfilm|Truenorth Productions|Bad Robot   12/15/2015        5292   \n4  Universal Pictures|Original Film|Media Rights ...     4/1/2015        2947   \n\n   vote_average  release_year  \n0           6.5          2015  \n1           7.1          2015  \n2           6.3          2015  \n3           7.5          2015  \n4           7.3          2015  ",
      "text/html": "<div>\n<style scoped>\n    .dataframe tbody tr th:only-of-type {\n        vertical-align: middle;\n    }\n\n    .dataframe tbody tr th {\n        vertical-align: top;\n    }\n\n    .dataframe thead th {\n        text-align: right;\n    }\n</style>\n<table border=\"1\" class=\"dataframe\">\n  <thead>\n    <tr style=\"text-align: right;\">\n      <th></th>\n      <th>imdb_id</th>\n      <th>popularity</th>\n      <th>budget</th>\n      <th>revenue</th>\n      <th>original_title</th>\n      <th>cast</th>\n      <th>director</th>\n      <th>tagline</th>\n      <th>overview</th>\n      <th>runtime</th>\n      <th>genres</th>\n      <th>production_companies</th>\n      <th>release_date</th>\n      <th>vote_count</th>\n      <th>vote_average</th>\n      <th>release_year</th>\n    </tr>\n  </thead>\n  <tbody>\n    <tr>\n      <th>0</th>\n      <td>tt0369610</td>\n      <td>32.985763</td>\n      <td>150000000</td>\n      <td>1513528810</td>\n      <td>Jurassic World</td>\n      <td>Chris Pratt|Bryce Dallas Howard|Irrfan Khan|Vi...</td>\n      <td>Colin Trevorrow</td>\n      <td>The park is open.</td>\n      <td>Twenty-two years after the events of Jurassic ...</td>\n      <td>124</td>\n      <td>Action|Adventure|Science Fiction|Thriller</td>\n      <td>Universal Studios|Amblin Entertainment|Legenda...</td>\n      <td>6/9/2015</td>\n      <td>5562</td>\n      <td>6.5</td>\n      <td>2015</td>\n    </tr>\n    <tr>\n      <th>1</th>\n      <td>tt1392190</td>\n      <td>28.419936</td>\n      <td>150000000</td>\n      <td>378436354</td>\n      <td>Mad Max: Fury Road</td>\n      <td>Tom Hardy|Charlize Theron|Hugh Keays-Byrne|Nic...</td>\n      <td>George Miller</td>\n      <td>What a Lovely Day.</td>\n      <td>An apocalyptic story set in the furthest reach...</td>\n      <td>120</td>\n      <td>Action|Adventure|Science Fiction|Thriller</td>\n      <td>Village Roadshow Pictures|Kennedy Miller Produ...</td>\n      <td>5/13/2015</td>\n      <td>6185</td>\n      <td>7.1</td>\n      <td>2015</td>\n    </tr>\n    <tr>\n      <th>2</th>\n      <td>tt2908446</td>\n      <td>13.112507</td>\n      <td>110000000</td>\n      <td>295238201</td>\n      <td>Insurgent</td>\n      <td>Shailene Woodley|Theo James|Kate Winslet|Ansel...</td>\n      <td>Robert Schwentke</td>\n      <td>One Choice Can Destroy You</td>\n      <td>Beatrice Prior must confront her inner demons ...</td>\n      <td>119</td>\n      <td>Adventure|Science Fiction|Thriller</td>\n      <td>Summit Entertainment|Mandeville Films|Red Wago...</td>\n      <td>3/18/2015</td>\n      <td>2480</td>\n      <td>6.3</td>\n      <td>2015</td>\n    </tr>\n    <tr>\n      <th>3</th>\n      <td>tt2488496</td>\n      <td>11.173104</td>\n      <td>200000000</td>\n      <td>2068178225</td>\n      <td>Star Wars: The Force Awakens</td>\n      <td>Harrison Ford|Mark Hamill|Carrie Fisher|Adam D...</td>\n      <td>J.J. Abrams</td>\n      <td>Every generation has a story.</td>\n      <td>Thirty years after defeating the Galactic Empi...</td>\n      <td>136</td>\n      <td>Action|Adventure|Science Fiction|Fantasy</td>\n      <td>Lucasfilm|Truenorth Productions|Bad Robot</td>\n      <td>12/15/2015</td>\n      <td>5292</td>\n      <td>7.5</td>\n      <td>2015</td>\n    </tr>\n    <tr>\n      <th>4</th>\n      <td>tt2820852</td>\n      <td>9.335014</td>\n      <td>190000000</td>\n      <td>1506249360</td>\n      <td>Furious 7</td>\n      <td>Vin Diesel|Paul Walker|Jason Statham|Michelle ...</td>\n      <td>James Wan</td>\n      <td>Vengeance Hits Home</td>\n      <td>Deckard Shaw seeks revenge against Dominic Tor...</td>\n      <td>137</td>\n      <td>Action|Crime|Thriller</td>\n      <td>Universal Pictures|Original Film|Media Rights ...</td>\n      <td>4/1/2015</td>\n      <td>2947</td>\n      <td>7.3</td>\n      <td>2015</td>\n    </tr>\n  </tbody>\n</table>\n</div>"
     },
     "execution_count": 4,
     "metadata": {},
     "output_type": "execute_result"
    }
   ]
  },
  {
   "metadata": {
    "trusted": true
   },
   "cell_type": "code",
   "source": [
    "len(data)"
   ],
   "execution_count": 5,
   "outputs": [
    {
     "data": {
      "text/plain": "1890"
     },
     "execution_count": 5,
     "metadata": {},
     "output_type": "execute_result"
    }
   ]
  },
  {
   "metadata": {
    "pycharm": {
     "name": "#%% md\n"
    }
   },
   "cell_type": "markdown",
   "source": [
    "# Предобработка датасета"
   ]
  },
  {
   "cell_type": "code",
   "execution_count": 6,
   "outputs": [],
   "source": [
    "def expand_field(df, key, fied, name, sep):\n",
    "\n",
    "    expanded_df = pd.DataFrame({key:[],name:[]})\n",
    "    i = 0\n",
    "    for index, row in df.iterrows():\n",
    "        values = row[fied].split(sep)\n",
    "        for value in values:\n",
    "            expanded_df.loc[i] = {key:row[key],name:value}\n",
    "            i+=1\n",
    "\n",
    "    return expanded_df\n",
    "\n",
    "data['profit'] = data.apply(lambda row: row['revenue'] - row['budget'],axis=1)\n",
    "data['release_date'] = pd.to_datetime(data.release_date)\n",
    "data['release_month'] = data.release_date.apply(lambda x : x.month)\n",
    "data['title_length'] = data.original_title.apply(lambda title : len(title))\n",
    "data['title_words_count'] = data.original_title.apply(lambda title: len(title.split()))"
   ],
   "metadata": {
    "collapsed": false,
    "pycharm": {
     "name": "#%%\n"
    }
   }
  },
  {
   "cell_type": "code",
   "execution_count": 7,
   "outputs": [],
   "source": [
    "data_genres = expand_field(data, 'imdb_id', 'genres', 'genre', '|')"
   ],
   "metadata": {
    "collapsed": false,
    "pycharm": {
     "name": "#%%\n"
    }
   }
  },
  {
   "cell_type": "code",
   "execution_count": 8,
   "outputs": [],
   "source": [
    "data_cast = expand_field(data, 'imdb_id', 'cast', 'actor', '|')"
   ],
   "metadata": {
    "collapsed": false,
    "pycharm": {
     "name": "#%%\n"
    }
   }
  },
  {
   "cell_type": "code",
   "execution_count": 9,
   "outputs": [],
   "source": [
    "data_production_companies = expand_field(data, 'imdb_id', 'production_companies', 'production_companie', '|')"
   ],
   "metadata": {
    "collapsed": false,
    "pycharm": {
     "name": "#%%\n"
    }
   }
  },
  {
   "metadata": {
    "trusted": true
   },
   "cell_type": "code",
   "source": [
    "answer_ls = [] # создадим список с ответами. сюда будем добавлять ответы по мере прохождения теста\n",
    "# сюда можем вписать создание новых колонок в датасете"
   ],
   "execution_count": 10,
   "outputs": []
  },
  {
   "metadata": {},
   "cell_type": "markdown",
   "source": [
    "# 1. У какого фильма из списка самый большой бюджет?\n",
    "Варианты ответов:\n",
    "1. The Dark Knight Rises (tt1345836)\n",
    "2. Spider-Man 3 (tt0413300)\n",
    "3. Avengers: Age of Ultron (tt2395427)\n",
    "4. The Warrior's Way\t(tt1032751)\n",
    "5. Pirates of the Caribbean: On Stranger Tides (tt1298650)"
   ]
  },
  {
   "metadata": {
    "trusted": true
   },
   "cell_type": "code",
   "source": [
    "# тут вводим ваш ответ и добавлем в его список ответов (сейчас для примера стоит \"1\")\n",
    "print(data[data.budget == data.budget.max()].iloc[0]['original_title'])\n",
    "\n",
    "answer_ls.append(4)"
   ],
   "execution_count": 11,
   "outputs": [
    {
     "name": "stdout",
     "output_type": "stream",
     "text": [
      "The Warrior's Way\n"
     ]
    }
   ]
  },
  {
   "metadata": {},
   "cell_type": "markdown",
   "source": [
    "# 2. Какой из фильмов самый длительный (в минутах)\n",
    "1. The Lord of the Rings: The Return of the King\t(tt0167260)\n",
    "2. Gods and Generals\t(tt0279111)\n",
    "3. King Kong\t(tt0360717)\n",
    "4. Pearl Harbor\t(tt0213149)\n",
    "5. Alexander\t(tt0346491)"
   ]
  },
  {
   "metadata": {
    "trusted": true
   },
   "cell_type": "code",
   "source": [
    "print(data[data.runtime == data.runtime.max()].iloc[0]['original_title'])\n",
    "answer_ls.append(2)"
   ],
   "execution_count": 12,
   "outputs": [
    {
     "name": "stdout",
     "output_type": "stream",
     "text": [
      "Gods and Generals\n"
     ]
    }
   ]
  },
  {
   "metadata": {},
   "cell_type": "markdown",
   "source": [
    "# 3. Какой из фильмов самый короткий (в минутах)\n",
    "Варианты ответов:\n",
    "\n",
    "1. Home on the Range\ttt0299172\n",
    "2. The Jungle Book 2\ttt0283426\n",
    "3. Winnie the Pooh\ttt1449283\n",
    "4. Corpse Bride\ttt0121164\n",
    "5. Hoodwinked!\ttt0443536"
   ]
  },
  {
   "metadata": {
    "trusted": true
   },
   "cell_type": "code",
   "source": [
    "print(data[data.runtime == data.runtime.min()].iloc[0]['original_title'])\n",
    "answer_ls.append(3)"
   ],
   "execution_count": 13,
   "outputs": [
    {
     "name": "stdout",
     "output_type": "stream",
     "text": [
      "Winnie the Pooh\n"
     ]
    }
   ]
  },
  {
   "metadata": {},
   "cell_type": "markdown",
   "source": [
    "# 4. Средняя длительность фильма?\n",
    "\n",
    "Варианты ответов:\n",
    "1. 115\n",
    "2. 110\n",
    "3. 105\n",
    "4. 120\n",
    "5. 100\n"
   ]
  },
  {
   "metadata": {
    "trusted": true
   },
   "cell_type": "code",
   "source": [
    "print(round(data.runtime.mean()))\n",
    "answer_ls.append(2)"
   ],
   "execution_count": 14,
   "outputs": [
    {
     "name": "stdout",
     "output_type": "stream",
     "text": [
      "110.0\n"
     ]
    }
   ]
  },
  {
   "metadata": {},
   "cell_type": "markdown",
   "source": [
    "# 5. Средняя длительность фильма по медиане?\n",
    "Варианты ответов:\n",
    "1. 106\n",
    "2. 112\n",
    "3. 101\n",
    "4. 120\n",
    "5. 115\n",
    "\n",
    "\n"
   ]
  },
  {
   "metadata": {
    "trusted": true
   },
   "cell_type": "code",
   "source": [
    "print(round(data.runtime.median()))\n",
    "answer_ls.append(1)"
   ],
   "execution_count": 15,
   "outputs": [
    {
     "name": "stdout",
     "output_type": "stream",
     "text": [
      "106.0\n"
     ]
    }
   ]
  },
  {
   "metadata": {},
   "cell_type": "markdown",
   "source": [
    "# 6. Какой самый прибыльный фильм?\n",
    "Варианты ответов:\n",
    "1. The Avengers\ttt0848228\n",
    "2. Minions\ttt2293640\n",
    "3. Star Wars: The Force Awakens\ttt2488496\n",
    "4. Furious 7\ttt2820852\n",
    "5. Avatar\ttt0499549"
   ]
  },
  {
   "metadata": {
    "trusted": true
   },
   "cell_type": "code",
   "source": [
    "print(data[data.profit == data.profit.max()].iloc[0]['original_title'])\n",
    "answer_ls.append(5)"
   ],
   "execution_count": 16,
   "outputs": [
    {
     "name": "stdout",
     "output_type": "stream",
     "text": [
      "Avatar\n"
     ]
    }
   ]
  },
  {
   "metadata": {},
   "cell_type": "markdown",
   "source": [
    "# 7. Какой фильм самый убыточный?\n",
    "Варианты ответов:\n",
    "1. Supernova tt0134983\n",
    "2. The Warrior's Way tt1032751\n",
    "3. Flushed Away\ttt0424095\n",
    "4. The Adventures of Pluto Nash\ttt0180052\n",
    "5. The Lone Ranger\ttt1210819"
   ]
  },
  {
   "metadata": {
    "trusted": true
   },
   "cell_type": "code",
   "source": [
    "print(data[data.profit == data.profit.min()].iloc[0]['original_title'])\n",
    "answer_ls.append(2)"
   ],
   "execution_count": 17,
   "outputs": [
    {
     "name": "stdout",
     "output_type": "stream",
     "text": [
      "The Warrior's Way\n"
     ]
    }
   ]
  },
  {
   "metadata": {},
   "cell_type": "markdown",
   "source": [
    "# 8. Сколько всего фильмов в прибыли?\n",
    "Варианты ответов:\n",
    "1. 1478\n",
    "2. 1520\n",
    "3. 1241\n",
    "4. 1135\n",
    "5. 1398\n"
   ]
  },
  {
   "metadata": {
    "trusted": true
   },
   "cell_type": "code",
   "source": [
    "print(data[data.profit > 0]['imdb_id'].count())\n",
    "answer_ls.append(1)"
   ],
   "execution_count": 18,
   "outputs": [
    {
     "name": "stdout",
     "output_type": "stream",
     "text": [
      "1478\n"
     ]
    }
   ]
  },
  {
   "metadata": {},
   "cell_type": "markdown",
   "source": [
    "# 9. Самый прибыльный фильм в 2008 году?\n",
    "Варианты ответов:\n",
    "1. Madagascar: Escape 2 Africa\ttt0479952\n",
    "2. Iron Man\ttt0371746\n",
    "3. Kung Fu Panda\ttt0441773\n",
    "4. The Dark Knight\ttt0468569\n",
    "5. Mamma Mia!\ttt0795421"
   ]
  },
  {
   "metadata": {
    "trusted": true
   },
   "cell_type": "code",
   "source": [
    "data_2008 = data[data.release_year == 2008]\n",
    "print(data_2008[data_2008.profit == data_2008.profit.max()].iloc[0]['original_title'])\n",
    "answer_ls.append(4)"
   ],
   "execution_count": 19,
   "outputs": [
    {
     "name": "stdout",
     "output_type": "stream",
     "text": [
      "The Dark Knight\n"
     ]
    }
   ]
  },
  {
   "metadata": {},
   "cell_type": "markdown",
   "source": [
    "# 10. Самый убыточный фильм за период с 2012 по 2014 (включительно)?\n",
    "Варианты ответов:\n",
    "1. Winter's Tale\ttt1837709\n",
    "2. Stolen\ttt1656186\n",
    "3. Broken City\ttt1235522\n",
    "4. Upside Down\ttt1374992\n",
    "5. The Lone Ranger\ttt1210819\n"
   ]
  },
  {
   "metadata": {
    "trusted": true
   },
   "cell_type": "code",
   "source": [
    "data_2012_2014 = data[(data.release_year >= 2012) & (data.release_year <=2014)]\n",
    "print(data_2012_2014[data_2012_2014.profit == data_2012_2014.profit.min()].iloc[0]['original_title'])\n",
    "answer_ls.append(5)"
   ],
   "execution_count": 20,
   "outputs": [
    {
     "name": "stdout",
     "output_type": "stream",
     "text": [
      "The Lone Ranger\n"
     ]
    }
   ]
  },
  {
   "metadata": {},
   "cell_type": "markdown",
   "source": [
    "# 11. Какого жанра фильмов больше всего?\n",
    "Варианты ответов:\n",
    "1. Action\n",
    "2. Adventure\n",
    "3. Drama\n",
    "4. Comedy\n",
    "5. Thriller"
   ]
  },
  {
   "metadata": {
    "trusted": true
   },
   "cell_type": "code",
   "source": [
    "print(data_genres.groupby('genre')['imdb_id'].count().sort_values(ascending=False).head(5))\n",
    "answer_ls.append(3)"
   ],
   "execution_count": 21,
   "outputs": [
    {
     "name": "stdout",
     "output_type": "stream",
     "text": [
      "genre\n",
      "Drama        782\n",
      "Comedy       683\n",
      "Thriller     597\n",
      "Action       583\n",
      "Adventure    416\n",
      "Name: imdb_id, dtype: int64\n"
     ]
    }
   ]
  },
  {
   "metadata": {},
   "cell_type": "markdown",
   "source": [
    "# 12. Какого жанра среди прибыльных фильмов больше всего?\n",
    "Варианты ответов:\n",
    "1. Drama\n",
    "2. Comedy\n",
    "3. Action\n",
    "4. Thriller\n",
    "5. Adventure"
   ]
  },
  {
   "metadata": {
    "trusted": true
   },
   "cell_type": "code",
   "source": [
    "data1 = data.merge(data_genres,'inner','imdb_id')\n",
    "print(data1[data1.profit > 0].groupby('genre')['imdb_id'].count().sort_values(ascending=False).head(5))\n",
    "\n",
    "answer_ls.append(1)"
   ],
   "execution_count": 22,
   "outputs": [
    {
     "name": "stdout",
     "output_type": "stream",
     "text": [
      "genre\n",
      "Drama        560\n",
      "Comedy       551\n",
      "Thriller     446\n",
      "Action       444\n",
      "Adventure    337\n",
      "Name: imdb_id, dtype: int64\n"
     ]
    }
   ]
  },
  {
   "metadata": {},
   "cell_type": "markdown",
   "source": [
    "# 13. Кто из режиссеров снял больше всего фильмов?\n",
    "Варианты ответов:\n",
    "1. Steven Spielberg\n",
    "2. Ridley Scott \n",
    "3. Steven Soderbergh\n",
    "4. Christopher Nolan\n",
    "5. Clint Eastwood"
   ]
  },
  {
   "metadata": {
    "trusted": true
   },
   "cell_type": "code",
   "source": [
    "print(data.director.value_counts().sort_values(ascending=False).head(5))\n",
    "answer_ls.append(3)"
   ],
   "execution_count": 23,
   "outputs": [
    {
     "name": "stdout",
     "output_type": "stream",
     "text": [
      "Steven Soderbergh    13\n",
      "Clint Eastwood       12\n",
      "Ridley Scott         12\n",
      "Steven Spielberg     10\n",
      "Shawn Levy           10\n",
      "Name: director, dtype: int64\n"
     ]
    }
   ]
  },
  {
   "metadata": {},
   "cell_type": "markdown",
   "source": [
    "# 14. Кто из режиссеров снял больше всего Прибыльных фильмов?\n",
    "Варианты ответов:\n",
    "1. Steven Soderbergh\n",
    "2. Clint Eastwood\n",
    "3. Steven Spielberg\n",
    "4. Ridley Scott\n",
    "5. Christopher Nolan"
   ]
  },
  {
   "metadata": {
    "trusted": true
   },
   "cell_type": "code",
   "source": [
    "print(data[data.profit > 0].director.value_counts().sort_values(ascending=False).head(5))\n",
    "answer_ls.append(4)"
   ],
   "execution_count": 24,
   "outputs": [
    {
     "name": "stdout",
     "output_type": "stream",
     "text": [
      "Ridley Scott         12\n",
      "Clint Eastwood       10\n",
      "Steven Spielberg     10\n",
      "Steven Soderbergh    10\n",
      "Shawn Levy            9\n",
      "Name: director, dtype: int64\n"
     ]
    }
   ]
  },
  {
   "metadata": {},
   "cell_type": "markdown",
   "source": [
    "# 15. Кто из режиссеров принес больше всего прибыли?\n",
    "Варианты ответов:\n",
    "1. Steven Spielberg\n",
    "2. Christopher Nolan\n",
    "3. David Yates\n",
    "4. James Cameron\n",
    "5. Peter Jackson\n"
   ]
  },
  {
   "metadata": {
    "trusted": true
   },
   "cell_type": "code",
   "source": [
    "print(data.groupby('director')['profit'].sum().sort_values(ascending=False).head(5))\n",
    "\n",
    "answer_ls.append(5)"
   ],
   "execution_count": 25,
   "outputs": [
    {
     "name": "stdout",
     "output_type": "stream",
     "text": [
      "director\n",
      "Peter Jackson        5202593685\n",
      "David Yates          3379295625\n",
      "Christopher Nolan    3162548502\n",
      "J.J. Abrams          2839169916\n",
      "Michael Bay          2760938960\n",
      "Name: profit, dtype: int64\n"
     ]
    }
   ]
  },
  {
   "metadata": {},
   "cell_type": "markdown",
   "source": [
    "# 16. Какой актер принес больше всего прибыли?\n",
    "Варианты ответов:\n",
    "1. Emma Watson\n",
    "2. Johnny Depp\n",
    "3. Michelle Rodriguez\n",
    "4. Orlando Bloom\n",
    "5. Rupert Grint"
   ]
  },
  {
   "metadata": {
    "trusted": true
   },
   "cell_type": "code",
   "source": [
    "data1 = data.merge(data_cast,'inner','imdb_id')\n",
    "print(data1.groupby('actor')['profit'].sum().sort_values(ascending=False).head(5))\n",
    "answer_ls.append(1)"
   ],
   "execution_count": 26,
   "outputs": [
    {
     "name": "stdout",
     "output_type": "stream",
     "text": [
      "actor\n",
      "Emma Watson          6666245597\n",
      "Daniel Radcliffe     6514990281\n",
      "Rupert Grint         6408638290\n",
      "Ian McKellen         6087375777\n",
      "Robert Downey Jr.    5316030161\n",
      "Name: profit, dtype: int64\n"
     ]
    }
   ]
  },
  {
   "metadata": {},
   "cell_type": "markdown",
   "source": [
    "# 17. Какой актер принес меньше всего прибыли в 2012 году?\n",
    "Варианты ответов:\n",
    "1. Nicolas Cage\n",
    "2. Danny Huston\n",
    "3. Kirsten Dunst\n",
    "4. Jim Sturgess\n",
    "5. Sami Gayle"
   ]
  },
  {
   "metadata": {
    "trusted": true
   },
   "cell_type": "code",
   "source": [
    "data1 = data.merge(data_cast,'inner','imdb_id')\n",
    "print(data1[data1.release_year == 2012].groupby('actor')['profit'].sum().sort_values(ascending=True).head(5))\n",
    "answer_ls.append(3)"
   ],
   "execution_count": 27,
   "outputs": [
    {
     "name": "stdout",
     "output_type": "stream",
     "text": [
      "actor\n",
      "Kirsten Dunst    -68109207\n",
      "Heidi Hawkins    -51893525\n",
      "James Kidnie     -51893525\n",
      "Timothy Spall    -51893525\n",
      "Malin Ã…kerman   -43733509\n",
      "Name: profit, dtype: int64\n"
     ]
    }
   ]
  },
  {
   "metadata": {},
   "cell_type": "markdown",
   "source": [
    "# 18. Какой актер снялся в большем количестве высокобюджетных фильмов? (в фильмах где бюджет выше среднего по данной выборке)\n",
    "Варианты ответов:\n",
    "1. Tom Cruise\n",
    "2. Mark Wahlberg \n",
    "3. Matt Damon\n",
    "4. Angelina Jolie\n",
    "5. Adam Sandler"
   ]
  },
  {
   "metadata": {
    "trusted": true
   },
   "cell_type": "code",
   "source": [
    "data1 = data[data.budget > data.budget.mean()]\n",
    "data2 = data1.merge(data_cast,'inner','imdb_id')\n",
    "print(data2.groupby('actor')['imdb_id'].count().sort_values(ascending = False).head(5))\n",
    "\n",
    "answer_ls.append(3)"
   ],
   "execution_count": 28,
   "outputs": [
    {
     "name": "stdout",
     "output_type": "stream",
     "text": [
      "actor\n",
      "Matt Damon        18\n",
      "Adam Sandler      17\n",
      "Angelina Jolie    16\n",
      "Eddie Murphy      15\n",
      "Tom Cruise        15\n",
      "Name: imdb_id, dtype: int64\n"
     ]
    }
   ]
  },
  {
   "metadata": {},
   "cell_type": "markdown",
   "source": [
    "# 19. В фильмах какого жанра больше всего снимался Nicolas Cage?  \n",
    "Варианты ответа:\n",
    "1. Drama\n",
    "2. Action\n",
    "3. Thriller\n",
    "4. Adventure\n",
    "5. Crime"
   ]
  },
  {
   "metadata": {
    "trusted": true
   },
   "cell_type": "code",
   "source": [
    "data1 = data[data.cast.str.contains('Nicolas Cage')]\n",
    "print(data1.merge(data_genres,'inner','imdb_id').groupby('genre')['imdb_id'].count().sort_values(ascending=False).head(5))\n",
    "\n",
    "answer_ls.append(2)"
   ],
   "execution_count": 29,
   "outputs": [
    {
     "name": "stdout",
     "output_type": "stream",
     "text": [
      "genre\n",
      "Action      17\n",
      "Thriller    15\n",
      "Drama       12\n",
      "Crime       10\n",
      "Fantasy      8\n",
      "Name: imdb_id, dtype: int64\n"
     ]
    }
   ]
  },
  {
   "metadata": {},
   "cell_type": "markdown",
   "source": [
    "# 20. Какая студия сняла больше всего фильмов?\n",
    "Варианты ответа:\n",
    "1. Universal Pictures (Universal)\n",
    "2. Paramount Pictures\n",
    "3. Columbia Pictures\n",
    "4. Warner Bros\n",
    "5. Twentieth Century Fox Film Corporation"
   ]
  },
  {
   "metadata": {
    "trusted": true
   },
   "cell_type": "code",
   "source": [
    "print(data.merge(data_production_companies,'inner','imdb_id').groupby('production_companie')['imdb_id'].count().sort_values(ascending=False).head(5))\n",
    "answer_ls.append(1)"
   ],
   "execution_count": 30,
   "outputs": [
    {
     "name": "stdout",
     "output_type": "stream",
     "text": [
      "production_companie\n",
      "Universal Pictures                        173\n",
      "Warner Bros.                              168\n",
      "Paramount Pictures                        122\n",
      "Columbia Pictures                         117\n",
      "Twentieth Century Fox Film Corporation    109\n",
      "Name: imdb_id, dtype: int64\n"
     ]
    }
   ]
  },
  {
   "metadata": {},
   "cell_type": "markdown",
   "source": [
    "# 21. Какая студия сняла больше всего фильмов в 2015 году?\n",
    "Варианты ответа:\n",
    "1. Universal Pictures\n",
    "2. Paramount Pictures\n",
    "3. Columbia Pictures\n",
    "4. Warner Bros\n",
    "5. Twentieth Century Fox Film Corporation"
   ]
  },
  {
   "metadata": {
    "trusted": true
   },
   "cell_type": "code",
   "source": [
    "data1 = data[data.release_year == 2015]\n",
    "print(data1.merge(data_production_companies,'inner','imdb_id').groupby('production_companie')['imdb_id'].count().sort_values(ascending=False).head(5))\n",
    "\n",
    "answer_ls.append(4)"
   ],
   "execution_count": 31,
   "outputs": [
    {
     "name": "stdout",
     "output_type": "stream",
     "text": [
      "production_companie\n",
      "Warner Bros.                              12\n",
      "Universal Pictures                        10\n",
      "Twentieth Century Fox Film Corporation     8\n",
      "Paramount Pictures                         7\n",
      "Columbia Pictures                          7\n",
      "Name: imdb_id, dtype: int64\n"
     ]
    }
   ]
  },
  {
   "metadata": {},
   "cell_type": "markdown",
   "source": [
    "# 22. Какая студия заработала больше всего денег в жанре комедий за все время?\n",
    "Варианты ответа:\n",
    "1. Warner Bros\n",
    "2. Universal Pictures (Universal)\n",
    "3. Columbia Pictures\n",
    "4. Paramount Pictures\n",
    "5. Walt Disney"
   ]
  },
  {
   "metadata": {
    "trusted": true
   },
   "cell_type": "code",
   "source": [
    "data1 = data[data.genres.str.contains('Comedy')]\n",
    "print(data1.merge(data_production_companies,'inner','imdb_id').groupby('production_companie')['imdb_id'].count().sort_values(ascending=False).head(5))\n",
    "\n",
    "answer_ls.append(2)"
   ],
   "execution_count": 32,
   "outputs": [
    {
     "name": "stdout",
     "output_type": "stream",
     "text": [
      "production_companie\n",
      "Universal Pictures                        75\n",
      "Columbia Pictures                         62\n",
      "Warner Bros.                              46\n",
      "Walt Disney Pictures                      45\n",
      "Twentieth Century Fox Film Corporation    44\n",
      "Name: imdb_id, dtype: int64\n"
     ]
    }
   ]
  },
  {
   "metadata": {},
   "cell_type": "markdown",
   "source": [
    "# 23. Какая студия заработала больше всего денег в 2012 году?\n",
    "Варианты ответа:\n",
    "1. Universal Pictures (Universal)\n",
    "2. Warner Bros\n",
    "3. Columbia Pictures\n",
    "4. Paramount Pictures\n",
    "5. Lucasfilm"
   ]
  },
  {
   "metadata": {
    "trusted": true
   },
   "cell_type": "code",
   "source": [
    "print(data[data.release_year == 2012].merge(data_production_companies,'inner','imdb_id').groupby('production_companie')['profit'].sum().sort_values(ascending=False).head(5))\n",
    "answer_ls.append(3)"
   ],
   "execution_count": 33,
   "outputs": [
    {
     "name": "stdout",
     "output_type": "stream",
     "text": [
      "production_companie\n",
      "Columbia Pictures     2501406608\n",
      "Universal Pictures    1981011579\n",
      "Marvel Studios        1299557910\n",
      "Warner Bros.          1258020056\n",
      "Relativity Media      1032593938\n",
      "Name: profit, dtype: int64\n"
     ]
    }
   ]
  },
  {
   "metadata": {},
   "cell_type": "markdown",
   "source": [
    "# 24. Самый убыточный фильм от Paramount Pictures\n",
    "Варианты ответа:\n",
    "\n",
    "1. K-19: The Widowmaker tt0267626\n",
    "2. Next tt0435705\n",
    "3. Twisted tt0315297\n",
    "4. The Love Guru tt0811138\n",
    "5. The Fighter tt0964517"
   ]
  },
  {
   "metadata": {
    "trusted": true
   },
   "cell_type": "code",
   "source": [
    "print(data[data.production_companies.str.contains('Paramount Pictures')].groupby(['imdb_id','original_title'])['profit'].sum().sort_values(ascending=True).head(5))\n",
    "answer_ls.append(1)"
   ],
   "execution_count": 34,
   "outputs": [
    {
     "name": "stdout",
     "output_type": "stream",
     "text": [
      "imdb_id    original_title      \n",
      "tt0267626  K-19: The Widowmaker   -64831034\n",
      "tt0300556  Timeline               -60519261\n",
      "tt0435705  Next                   -51788987\n",
      "tt0375173  Alfie                  -46604061\n",
      "tt0315297  Twisted                -24805000\n",
      "Name: profit, dtype: int64\n"
     ]
    }
   ]
  },
  {
   "metadata": {},
   "cell_type": "markdown",
   "source": [
    "# 25. Какой Самый прибыльный год (заработали больше всего)?\n",
    "Варианты ответа:\n",
    "1. 2014\n",
    "2. 2008\n",
    "3. 2012\n",
    "4. 2002\n",
    "5. 2015"
   ]
  },
  {
   "metadata": {
    "trusted": true
   },
   "cell_type": "code",
   "source": [
    "print(data.groupby('release_year')['profit'].sum().sort_values(ascending=False).head(5))\n",
    "answer_ls.append(5)"
   ],
   "execution_count": 35,
   "outputs": [
    {
     "name": "stdout",
     "output_type": "stream",
     "text": [
      "release_year\n",
      "2015    18668572378\n",
      "2014    16397812953\n",
      "2012    16077001687\n",
      "2013    15243179791\n",
      "2011    14730241341\n",
      "Name: profit, dtype: int64\n"
     ]
    }
   ]
  },
  {
   "metadata": {},
   "cell_type": "markdown",
   "source": [
    "# 26. Какой Самый прибыльный год для студии Warner Bros?\n",
    "Варианты ответа:\n",
    "1. 2014\n",
    "2. 2008\n",
    "3. 2012\n",
    "4. 2010\n",
    "5. 2015"
   ]
  },
  {
   "metadata": {
    "trusted": true
   },
   "cell_type": "code",
   "source": [
    "print(data[data.production_companies.str.contains('Warner Bros')].groupby('release_year')['profit'].sum().sort_values(ascending=False))\n",
    "answer_ls.append(1)"
   ],
   "execution_count": 36,
   "outputs": [
    {
     "name": "stdout",
     "output_type": "stream",
     "text": [
      "release_year\n",
      "2014    2295464519\n",
      "2007    2201675217\n",
      "2008    2134595031\n",
      "2010    1974712985\n",
      "2011    1871393682\n",
      "2003    1855493377\n",
      "2009    1822454136\n",
      "2013    1636453400\n",
      "2004    1631933725\n",
      "2005    1551980298\n",
      "2001    1343545668\n",
      "2012    1258020056\n",
      "2002    1022709901\n",
      "2015     870368348\n",
      "2006     620170743\n",
      "2000     452631386\n",
      "Name: profit, dtype: int64\n"
     ]
    }
   ]
  },
  {
   "metadata": {},
   "cell_type": "markdown",
   "source": [
    "# 27. В каком месяце за все годы суммарно вышло больше всего фильмов?\n",
    "Варианты ответа:\n",
    "1. Январь\n",
    "2. Июнь\n",
    "3. Декабрь\n",
    "4. Сентябрь\n",
    "5. Май"
   ]
  },
  {
   "metadata": {
    "trusted": true
   },
   "cell_type": "code",
   "source": [
    "print(data.groupby('release_month')['imdb_id'].count().sort_values(ascending=False))\n",
    "answer_ls.append(4)"
   ],
   "execution_count": 37,
   "outputs": [
    {
     "name": "stdout",
     "output_type": "stream",
     "text": [
      "release_month\n",
      "9     227\n",
      "12    191\n",
      "10    186\n",
      "8     161\n",
      "3     156\n",
      "4     149\n",
      "6     147\n",
      "11    146\n",
      "7     142\n",
      "5     140\n",
      "2     135\n",
      "1     110\n",
      "Name: imdb_id, dtype: int64\n"
     ]
    }
   ]
  },
  {
   "metadata": {},
   "cell_type": "markdown",
   "source": [
    "# 28. Сколько суммарно вышло фильмов летом? (за июнь, июль, август)\n",
    "Варианты ответа:\n",
    "1. 345\n",
    "2. 450\n",
    "3. 478\n",
    "4. 523\n",
    "5. 381"
   ]
  },
  {
   "metadata": {
    "trusted": true
   },
   "cell_type": "code",
   "source": [
    "print(data[(data.release_month >= 6)&(data.release_month <= 8)]['imdb_id'].count())\n",
    "answer_ls.append(2)"
   ],
   "execution_count": 38,
   "outputs": [
    {
     "name": "stdout",
     "output_type": "stream",
     "text": [
      "450\n"
     ]
    }
   ]
  },
  {
   "metadata": {},
   "cell_type": "markdown",
   "source": [
    "# 29. Какой режисер выпускает (суммарно по годам) больше всего фильмов зимой?\n",
    "Варианты ответов:\n",
    "1. Steven Soderbergh\n",
    "2. Christopher Nolan\n",
    "3. Clint Eastwood\n",
    "4. Ridley Scott\n",
    "5. Peter Jackson"
   ]
  },
  {
   "metadata": {
    "trusted": true
   },
   "cell_type": "code",
   "source": [
    "print(data.query('release_month in [12,1,2]').groupby('director')['imdb_id'].count().sort_values(ascending=False).head(5))\n",
    "answer_ls.append(5)"
   ],
   "execution_count": 39,
   "outputs": [
    {
     "name": "stdout",
     "output_type": "stream",
     "text": [
      "director\n",
      "Peter Jackson        7\n",
      "Clint Eastwood       6\n",
      "Steven Soderbergh    6\n",
      "Shawn Levy           4\n",
      "Adam Shankman        4\n",
      "Name: imdb_id, dtype: int64\n"
     ]
    }
   ]
  },
  {
   "metadata": {},
   "cell_type": "markdown",
   "source": [
    "# 30. Какой месяц чаще всего по годам самый прибыльный?\n",
    "Варианты ответа:\n",
    "1. Январь\n",
    "2. Июнь\n",
    "3. Декабрь\n",
    "4. Сентябрь\n",
    "5. Май"
   ]
  },
  {
   "metadata": {
    "trusted": true
   },
   "cell_type": "code",
   "source": [
    "data1 = data.groupby(['release_year','release_month'])['profit'].sum().reset_index()\n",
    "data2 = data1.groupby('release_year')['profit'].max().reset_index()\n",
    "data3 = data2.merge(data1,'inner',['release_year','profit'])\n",
    "print(data3.release_month.value_counts().sort_values(ascending=False))\n",
    "\n",
    "answer_ls.append(2)"
   ],
   "execution_count": 40,
   "outputs": [
    {
     "name": "stdout",
     "output_type": "stream",
     "text": [
      "6     7\n",
      "5     4\n",
      "12    4\n",
      "7     1\n",
      "Name: release_month, dtype: int64\n"
     ]
    }
   ]
  },
  {
   "metadata": {},
   "cell_type": "markdown",
   "source": [
    "# 31. Названия фильмов какой студии в среднем самые длинные по количеству символов?\n",
    "Варианты ответа:\n",
    "1. Universal Pictures (Universal)\n",
    "2. Warner Bros\n",
    "3. Jim Henson Company, The\n",
    "4. Paramount Pictures\n",
    "5. Four By Two Productions"
   ]
  },
  {
   "metadata": {
    "trusted": true
   },
   "cell_type": "code",
   "source": [
    "data1 = data.merge(data_production_companies,'inner','imdb_id')\n",
    "print(data1.groupby('production_companie')['title_length'].mean().sort_values(ascending=False).head(5))\n",
    "answer_ls.append(5)"
   ],
   "execution_count": 41,
   "outputs": [
    {
     "name": "stdout",
     "output_type": "stream",
     "text": [
      "production_companie\n",
      "Four By Two Productions      83.0\n",
      "Jim Henson Company, The      59.0\n",
      "Dos Corazones                47.0\n",
      "Polsky Films                 46.0\n",
      "Museum Canada Productions    46.0\n",
      "Name: title_length, dtype: float64\n"
     ]
    }
   ]
  },
  {
   "metadata": {},
   "cell_type": "markdown",
   "source": [
    "# 32. Названия фильмов какой студии в среднем самые длинные по количеству слов?\n",
    "Варианты ответа:\n",
    "1. Universal Pictures (Universal)\n",
    "2. Warner Bros\n",
    "3. Jim Henson Company, The\n",
    "4. Paramount Pictures\n",
    "5. Four By Two Productions"
   ]
  },
  {
   "metadata": {
    "trusted": true
   },
   "cell_type": "code",
   "source": [
    "data1 = data.merge(data_production_companies,'inner','imdb_id')\n",
    "print(data1.groupby('production_companie')['title_words_count'].mean().sort_values(ascending=False).head(5))\n",
    "\n",
    "answer_ls.append(5)"
   ],
   "execution_count": 42,
   "outputs": [
    {
     "name": "stdout",
     "output_type": "stream",
     "text": [
      "production_companie\n",
      "Four By Two Productions    12.0\n",
      "Jim Henson Company, The    10.0\n",
      "Polsky Films                9.0\n",
      "The Saul Zaentz Company     9.0\n",
      "Dos Corazones               9.0\n",
      "Name: title_words_count, dtype: float64\n"
     ]
    }
   ]
  },
  {
   "metadata": {},
   "cell_type": "markdown",
   "source": [
    "# 33. Сколько разных слов используется в названиях фильмов?(без учета регистра)\n",
    "Варианты ответа:\n",
    "1. 6540\n",
    "2. 1002\n",
    "3. 2461\n",
    "4. 28304\n",
    "5. 3432"
   ]
  },
  {
   "metadata": {
    "trusted": true
   },
   "cell_type": "code",
   "source": [
    "words = set()\n",
    "serie1 = data.original_title.apply(lambda title: title.lower().split())\n",
    "for current_words in serie1:\n",
    "    for word in current_words:\n",
    "        words.add(word)\n",
    "print(len(words))\n",
    "answer_ls.append(3)"
   ],
   "execution_count": 44,
   "outputs": [
    {
     "name": "stdout",
     "output_type": "stream",
     "text": [
      "2461\n"
     ]
    }
   ]
  },
  {
   "metadata": {},
   "cell_type": "markdown",
   "source": [
    "# 34. Какие фильмы входят в 1 процент лучших по рейтингу?\n",
    "Варианты ответа:\n",
    "1. Inside Out, Gone Girl, 12 Years a Slave\n",
    "2. BloodRayne, The Adventures of Rocky & Bullwinkle\n",
    "3. The Lord of the Rings: The Return of the King\n",
    "4. 300, Lucky Number Slevin"
   ]
  },
  {
   "metadata": {
    "trusted": true,
    "pycharm": {
     "name": "#%%\n"
    }
   },
   "cell_type": "code",
   "source": [
    "popularity1 = data.popularity.max()\n",
    "popularity0 = popularity1 - popularity1 * 0.01\n",
    "print(data[(data.popularity >= popularity0)&(data.popularity <= popularity1)].sort_values(by='popularity')['original_title'])\n",
    "\n",
    "answer_ls.append(1)"
   ],
   "execution_count": null,
   "outputs": []
  },
  {
   "metadata": {},
   "cell_type": "markdown",
   "source": [
    "# 35. Какие актеры чаще всего снимаются в одном фильме вместе\n",
    "Варианты ответа:\n",
    "1. Johnny Depp & Helena Bonham Carter\n",
    "2. Hugh Jackman & Ian McKellen\n",
    "3. Vin Diesel & Paul Walker\n",
    "4. Adam Sandler & Kevin James\n",
    "5. Daniel Radcliffe & Rupert Grint"
   ]
  },
  {
   "metadata": {
    "trusted": true
   },
   "cell_type": "code",
   "source": [
    "d1 = data_cast.merge(data_cast,'inner','imdb_id')\n",
    "d1 = d1[d1.actor_x != d1.actor_y]\n",
    "print(d1.groupby(['actor_x','actor_y'])['imdb_id'].count().sort_values(ascending=False).head(5))\n",
    "answer_ls.append(5)"
   ],
   "execution_count": 45,
   "outputs": [
    {
     "name": "stdout",
     "output_type": "stream",
     "text": [
      "actor_x           actor_y         \n",
      "Rupert Grint      Emma Watson         8\n",
      "                  Daniel Radcliffe    8\n",
      "Emma Watson       Rupert Grint        8\n",
      "Daniel Radcliffe  Rupert Grint        8\n",
      "                  Emma Watson         8\n",
      "Name: imdb_id, dtype: int64\n"
     ]
    }
   ]
  },
  {
   "metadata": {},
   "cell_type": "markdown",
   "source": [
    "# 36. У какого из режиссеров выше вероятность выпустить фильм в прибыли? (5 баллов)101\n",
    "Варианты ответа:\n",
    "1. Quentin Tarantino\n",
    "2. Steven Soderbergh\n",
    "3. Robert Rodriguez\n",
    "4. Christopher Nolan\n",
    "5. Clint Eastwood"
   ]
  },
  {
   "metadata": {
    "trusted": true
   },
   "cell_type": "code",
   "source": [
    "data1 = data.query('director in [\"Quentin Tarantino\",\"Steven Soderbergh\",\"Robert Rodriguez\",\"Christopher Nolan\",\"Clint Eastwood\"]')\n",
    "data1 = data1.groupby('director')['imdb_id'].count().reset_index()\n",
    "data1 = data1.rename(columns = {'imdb_id':'total_films_count'})\n",
    "data['profitable'] = data.profit.apply(lambda profit: 1 if profit > 0 else 0)\n",
    "data2 = data.groupby('director')['profitable'].sum().reset_index()\n",
    "data2 = data2.rename(columns = {'profitable':'profitable_films_count'})\n",
    "data3 = data1.merge(data2,'inner','director')\n",
    "data3['success_rate'] = data3.apply(lambda row: round(row.profitable_films_count / row.total_films_count * 100,2),axis=1)\n",
    "\n",
    "print(data3.sort_values(by=['success_rate','total_films_count'],ascending=False))\n",
    "answer_ls.append(4)"
   ],
   "execution_count": 46,
   "outputs": [
    {
     "name": "stdout",
     "output_type": "stream",
     "text": [
      "            director  total_films_count  profitable_films_count  success_rate\n",
      "0  Christopher Nolan                  8                       8        100.00\n",
      "2  Quentin Tarantino                  5                       5        100.00\n",
      "3   Robert Rodriguez                  7                       6         85.71\n",
      "1     Clint Eastwood                 12                      10         83.33\n",
      "4  Steven Soderbergh                 13                      10         76.92\n"
     ]
    }
   ]
  },
  {
   "metadata": {},
   "cell_type": "markdown",
   "source": "# Submission"
  },
  {
   "metadata": {
    "trusted": true
   },
   "cell_type": "code",
   "source": "len(answer_ls)",
   "execution_count": null,
   "outputs": []
  },
  {
   "metadata": {
    "trusted": true
   },
   "cell_type": "code",
   "source": "pd.DataFrame({'Id':range(1,len(answer_ls)+1), 'Answer':answer_ls}, columns=['Id', 'Answer'])",
   "execution_count": null,
   "outputs": []
  },
  {
   "metadata": {
    "trusted": false
   },
   "cell_type": "code",
   "source": "",
   "execution_count": null,
   "outputs": []
  }
 ],
 "metadata": {
  "kernelspec": {
   "display_name": "Python 3",
   "language": "python",
   "name": "python3"
  },
  "language_info": {
   "codemirror_mode": {
    "name": "ipython",
    "version": 3
   },
   "file_extension": ".py",
   "mimetype": "text/x-python",
   "name": "python",
   "nbconvert_exporter": "python",
   "pygments_lexer": "ipython3",
   "version": "3.6.6"
  }
 },
 "nbformat": 4,
 "nbformat_minor": 4
}